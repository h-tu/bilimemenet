{
 "cells": [
  {
   "cell_type": "code",
   "execution_count": 31,
   "id": "9d5e3e2f",
   "metadata": {},
   "outputs": [
    {
     "name": "stdout",
     "output_type": "stream",
     "text": [
      "cuda\n"
     ]
    }
   ],
   "source": [
    "import torch\n",
    "from transformers import  AutoTokenizer, AlbertForSequenceClassification\n",
    "import pickle\n",
    "import numpy as np\n",
    "from sklearn.model_selection import train_test_split\n",
    "from torch.optim import AdamW\n",
    "from torch.utils.data import DataLoader\n",
    "import torch.utils.data as utils\n",
    "from transformers import get_scheduler\n",
    "from tqdm.auto import tqdm\n",
    "device = torch.device('cuda' if torch.cuda.is_available() else 'cpu')\n",
    "print(device)"
   ]
  },
  {
   "cell_type": "code",
   "execution_count": 32,
   "id": "e68bc9ef",
   "metadata": {},
   "outputs": [
    {
     "name": "stderr",
     "output_type": "stream",
     "text": [
      "Some weights of the model checkpoint at voidful/albert_chinese_base were not used when initializing AlbertForSequenceClassification: ['predictions.LayerNorm.bias', 'predictions.bias', 'predictions.dense.weight', 'predictions.LayerNorm.weight', 'predictions.dense.bias', 'predictions.decoder.bias', 'predictions.decoder.weight']\n",
      "- This IS expected if you are initializing AlbertForSequenceClassification from the checkpoint of a model trained on another task or with another architecture (e.g. initializing a BertForSequenceClassification model from a BertForPreTraining model).\n",
      "- This IS NOT expected if you are initializing AlbertForSequenceClassification from the checkpoint of a model that you expect to be exactly identical (initializing a BertForSequenceClassification model from a BertForSequenceClassification model).\n",
      "Some weights of AlbertForSequenceClassification were not initialized from the model checkpoint at voidful/albert_chinese_base and are newly initialized: ['classifier.bias', 'classifier.weight']\n",
      "You should probably TRAIN this model on a down-stream task to be able to use it for predictions and inference.\n"
     ]
    }
   ],
   "source": [
    "tokenizer = AutoTokenizer.from_pretrained(\"voidful/albert_chinese_base\")\n",
    "model = AlbertForSequenceClassification.from_pretrained(\"voidful/albert_chinese_base\", problem_type=\"multi_label_classification\")\n"
   ]
  },
  {
   "cell_type": "code",
   "execution_count": 33,
   "id": "050f597d",
   "metadata": {},
   "outputs": [],
   "source": [
    "tmp_lst = []\n",
    "\n",
    "for i in ['danmu']:\n",
    "    with open('{}_token_main.pkl'.format(i), 'rb') as f:\n",
    "        tmp = pickle.load(f)\n",
    "        tmp_lst.append(tmp)\n",
    "    with open('{}_dist_main.pkl'.format(i), 'rb') as f:\n",
    "        tmp = pickle.load(f)\n",
    "        tmp_lst.append(tmp)\n",
    "        \n",
    "danmu_token, danmu_dist= tmp_lst"
   ]
  },
  {
   "cell_type": "code",
   "execution_count": 34,
   "id": "3d45b277",
   "metadata": {},
   "outputs": [],
   "source": [
    "inputs = tokenizer(danmu_token, return_tensors=\"pt\",max_length=64,padding='max_length',truncation='longest_first')"
   ]
  },
  {
   "cell_type": "code",
   "execution_count": 35,
   "id": "d621c89e",
   "metadata": {},
   "outputs": [
    {
     "name": "stdout",
     "output_type": "stream",
     "text": [
      "torch.Size([337392, 64])\n"
     ]
    }
   ],
   "source": [
    "print(inputs['input_ids'].shape)\n",
    "def getlabels(dist_lst):\n",
    "    tmp = np.zeros_like(dist_lst)\n",
    "    for i, row in enumerate(dist_lst):\n",
    "        idx = np.argmax(row)\n",
    "        tmp[i][idx] = 1\n",
    "    dist_lst = tmp\n",
    "    output = torch.from_numpy(np.array(dist_lst).astype(np.float32)).to(device=device)\n",
    "    return output"
   ]
  },
  {
   "cell_type": "code",
   "execution_count": 36,
   "id": "ee5452f5",
   "metadata": {},
   "outputs": [],
   "source": [
    "labels = getlabels(danmu_dist)"
   ]
  },
  {
   "cell_type": "code",
   "execution_count": 37,
   "id": "89a5d7ec",
   "metadata": {},
   "outputs": [],
   "source": [
    "X_train, X_test, y_train, y_test = train_test_split(inputs['input_ids'], labels, test_size=0.1, random_state=42)\n",
    "X_val, X_test, y_val, y_test = train_test_split(X_test, y_test, test_size=0.5, random_state=42)\n",
    "inputDim, outputDim = X_train.shape[1], y_train.shape[1]"
   ]
  },
  {
   "cell_type": "code",
   "execution_count": 38,
   "id": "7f3bbf95",
   "metadata": {},
   "outputs": [],
   "source": [
    "num_labels = 21\n",
    "length = X_train.shape\n",
    "inputs_xtrain = {}\n",
    "inputs_xtrain['input_ids'] = X_train\n",
    "inputs_xtrain['token_type_ids'] = torch.zeros(X_train.shape,dtype=torch.long)\n",
    "inputs_xtrain['attention_mask'] = torch.ones(X_train.shape,dtype=torch.long)\n",
    "inputs_xval = {}\n",
    "inputs_xval['input_ids'] = X_val\n",
    "inputs_xval['token_type_ids'] = torch.zeros(X_val.shape,dtype=torch.long)\n",
    "inputs_xval['attention_mask'] = torch.ones(X_val.shape,dtype=torch.long)"
   ]
  },
  {
   "cell_type": "code",
   "execution_count": 39,
   "id": "ea931000",
   "metadata": {},
   "outputs": [],
   "source": [
    "train_dataset = utils.TensorDataset(X_train,y_train)\n",
    "val_dataset = utils.TensorDataset(X_val,y_val)"
   ]
  },
  {
   "cell_type": "code",
   "execution_count": 40,
   "id": "8b53ce1e",
   "metadata": {},
   "outputs": [
    {
     "name": "stderr",
     "output_type": "stream",
     "text": [
      "Some weights of the model checkpoint at voidful/albert_chinese_base were not used when initializing AlbertForSequenceClassification: ['predictions.LayerNorm.bias', 'predictions.bias', 'predictions.dense.weight', 'predictions.LayerNorm.weight', 'predictions.dense.bias', 'predictions.decoder.bias', 'predictions.decoder.weight']\n",
      "- This IS expected if you are initializing AlbertForSequenceClassification from the checkpoint of a model trained on another task or with another architecture (e.g. initializing a BertForSequenceClassification model from a BertForPreTraining model).\n",
      "- This IS NOT expected if you are initializing AlbertForSequenceClassification from the checkpoint of a model that you expect to be exactly identical (initializing a BertForSequenceClassification model from a BertForSequenceClassification model).\n",
      "Some weights of AlbertForSequenceClassification were not initialized from the model checkpoint at voidful/albert_chinese_base and are newly initialized: ['classifier.bias', 'classifier.weight']\n",
      "You should probably TRAIN this model on a down-stream task to be able to use it for predictions and inference.\n"
     ]
    },
    {
     "data": {
      "application/vnd.jupyter.widget-view+json": {
       "model_id": "635b30ba6b6f45ea8dfb5b91ad44e3ed",
       "version_major": 2,
       "version_minor": 0
      },
      "text/plain": [
       "  0%|          | 0/47460 [00:00<?, ?it/s]"
      ]
     },
     "metadata": {},
     "output_type": "display_data"
    },
    {
     "name": "stdout",
     "output_type": "stream",
     "text": [
      "epoch 0\n",
      "train accurarcy: 0.6201309393647991\n",
      "valid accurarcy: 0.36733847065797276\n",
      "epoch 1\n",
      "train accurarcy: 0.6325629338848419\n",
      "valid accurarcy: 0.3663307646710136\n",
      "epoch 2\n",
      "train accurarcy: 0.6507976235954316\n",
      "valid accurarcy: 0.37154712507409604\n",
      "epoch 3\n",
      "train accurarcy: 0.6733299961798375\n",
      "valid accurarcy: 0.3759928867812685\n",
      "epoch 4\n",
      "train accurarcy: 0.6953123970861381\n",
      "valid accurarcy: 0.36751630112625966\n",
      "epoch 5\n",
      "train accurarcy: 0.7180193115803617\n",
      "valid accurarcy: 0.37439241256668643\n",
      "epoch 6\n",
      "train accurarcy: 0.7377952392870786\n",
      "valid accurarcy: 0.37083580320094844\n",
      "epoch 7\n",
      "train accurarcy: 0.7584010643763255\n",
      "valid accurarcy: 0.37095435684647304\n",
      "epoch 8\n",
      "train accurarcy: 0.7770408230474359\n",
      "valid accurarcy: 0.3668642560758743\n",
      "epoch 9\n",
      "train accurarcy: 0.795031812732997\n",
      "valid accurarcy: 0.3660936573799644\n",
      "epoch 10\n",
      "train accurarcy: 0.8130820808030245\n",
      "valid accurarcy: 0.3653230586840545\n",
      "epoch 11\n",
      "train accurarcy: 0.8303781960928958\n",
      "valid accurarcy: 0.363841138114997\n",
      "epoch 12\n",
      "train accurarcy: 0.8467752558850263\n",
      "valid accurarcy: 0.3639004149377593\n",
      "epoch 13\n",
      "train accurarcy: 0.8639165887265686\n",
      "valid accurarcy: 0.36152934202726733\n",
      "epoch 14\n",
      "train accurarcy: 0.879905286314597\n",
      "valid accurarcy: 0.36152934202726733\n",
      "epoch 15\n",
      "train accurarcy: 0.8949652892126513\n",
      "valid accurarcy: 0.35708358032009485\n",
      "epoch 16\n",
      "train accurarcy: 0.9112372057486859\n",
      "valid accurarcy: 0.35376407824540607\n",
      "epoch 17\n",
      "train accurarcy: 0.9270085492603375\n",
      "valid accurarcy: 0.35287492590397157\n",
      "epoch 18\n",
      "train accurarcy: 0.9412979331603283\n",
      "valid accurarcy: 0.35459395376407826\n",
      "epoch 19\n",
      "train accurarcy: 0.953364377642828\n",
      "valid accurarcy: 0.35388263189093067\n"
     ]
    }
   ],
   "source": [
    "train_dataloader = DataLoader(train_dataset, shuffle=True,batch_size=128)\n",
    "num_epochs = 20\n",
    "num_training_steps = num_epochs * len(train_dataloader)\n",
    "model = AlbertForSequenceClassification.from_pretrained(\"voidful/albert_chinese_base\", num_labels=num_labels)\n",
    "model.to(device)\n",
    "optimizer = AdamW(model.parameters(),lr=5e-5)\n",
    "checkpoint = torch.load(PATH,map_location=device)\n",
    "model.load_state_dict(checkpoint['model_state_dict'])\n",
    "optimizer.load_state_dict(checkpoint['optimizer_state_dict'])\n",
    "\n",
    "lr_scheduler = get_scheduler(\n",
    "    name=\"linear\", optimizer=optimizer, num_warmup_steps=0, num_training_steps=num_training_steps\n",
    ")\n",
    "progress_bar = tqdm(range(num_training_steps))\n",
    "best = checkpoint['acc']\n",
    "for epoch in range(num_epochs):\n",
    "    model.train()\n",
    "    total = 0\n",
    "    print(\"epoch\",epoch)\n",
    "    for x,y in train_dataloader:\n",
    "        x=x.to(device)\n",
    "        y=y.to(device)\n",
    "        inputs_xtrain = {}\n",
    "        inputs_xtrain['input_ids'] = x\n",
    "        inputs_xtrain['token_type_ids'] = torch.zeros(x.shape,dtype=torch.long).to(device)\n",
    "        inputs_xtrain['attention_mask'] = torch.ones(x.shape,dtype=torch.long).to(device)\n",
    "        outputs = model(**inputs_xtrain,labels=y)\n",
    "        predicted_class_id = outputs.logits.argmax(axis=1).detach().cpu().numpy()\n",
    "        labels = y.detach().cpu().numpy()\n",
    "        labels = np.argmax(labels,axis=1)\n",
    "        correct = np.sum(predicted_class_id==labels)\n",
    "        total += correct\n",
    "        loss = outputs.loss\n",
    "        loss.backward()\n",
    "        optimizer.step()\n",
    "        lr_scheduler.step()\n",
    "        optimizer.zero_grad()\n",
    "        progress_bar.update(1)\n",
    "    PATH = \"model.pt\"\n",
    "    acc = total/y_train.shape[0]\n",
    "    if best < acc:\n",
    "        best = acc\n",
    "        torch.save({\n",
    "                'epoch': epoch,\n",
    "                'model_state_dict': model.state_dict(),\n",
    "                'optimizer_state_dict': optimizer.state_dict(),\n",
    "                'acc': acc,\n",
    "                }, PATH)\n",
    "    print(\"train accurarcy:\",total/y_train.shape[0])\n",
    "    model.eval()\n",
    "    total = 0\n",
    "    eval_dataloader = DataLoader(val_dataset, batch_size=128)\n",
    "    for x,y in eval_dataloader:\n",
    "        with torch.no_grad():\n",
    "            inputs_val = {}\n",
    "            inputs_val['input_ids'] = x.to(device)\n",
    "            inputs_val['token_type_ids'] = torch.zeros(x.shape,dtype=torch.long).to(device)\n",
    "            inputs_val['attention_mask'] = torch.ones(x.shape,dtype=torch.long).to(device)\n",
    "            logits = model(**inputs_val).logits\n",
    "            predicted_class_id = logits.argmax(axis=1).detach().cpu().numpy()\n",
    "            labels = y.detach().cpu().numpy()\n",
    "            labels = np.argmax(labels,axis=1)\n",
    "            correct = np.sum(predicted_class_id==labels)\n",
    "            total += correct\n",
    "    print(\"valid accurarcy:\",total/y_val.shape[0])"
   ]
  },
  {
   "cell_type": "code",
   "execution_count": null,
   "id": "09037553",
   "metadata": {},
   "outputs": [],
   "source": []
  },
  {
   "cell_type": "code",
   "execution_count": 41,
   "id": "281bdea3",
   "metadata": {},
   "outputs": [
    {
     "name": "stdout",
     "output_type": "stream",
     "text": [
      "0.35376407824540607\n"
     ]
    }
   ],
   "source": [
    "checkpoint = torch.load(PATH)\n",
    "model.load_state_dict(checkpoint['model_state_dict'])\n",
    "optimizer.load_state_dict(checkpoint['optimizer_state_dict'])\n",
    "epoch = checkpoint['epoch']\n",
    "acc = checkpoint['acc']\n",
    "test_dataset = utils.TensorDataset(X_test,y_test)\n",
    "model.eval()\n",
    "total = 0\n",
    "test_dataloader = DataLoader(test_dataset, batch_size=128)\n",
    "for x,y in test_dataloader:\n",
    "    with torch.no_grad():\n",
    "        inputs_test = {}\n",
    "        inputs_test['input_ids'] = x.to(device)\n",
    "        inputs_test['token_type_ids'] = torch.zeros(x.shape,dtype=torch.long).to(device)\n",
    "        inputs_test['attention_mask'] = torch.ones(x.shape,dtype=torch.long).to(device)\n",
    "        logits = model(**inputs_test).logits\n",
    "        predicted_class_id = logits.argmax(axis=1).detach().cpu().numpy()\n",
    "        labels = y.detach().cpu().numpy()\n",
    "        labels = np.argmax(labels,axis=1)\n",
    "        correct = np.sum(predicted_class_id==labels)\n",
    "        total += correct\n",
    "print(total/y_test.shape[0])"
   ]
  },
  {
   "cell_type": "code",
   "execution_count": null,
   "id": "390734db",
   "metadata": {},
   "outputs": [],
   "source": []
  }
 ],
 "metadata": {
  "kernelspec": {
   "display_name": "Python 3 (ipykernel)",
   "language": "python",
   "name": "python3"
  },
  "language_info": {
   "codemirror_mode": {
    "name": "ipython",
    "version": 3
   },
   "file_extension": ".py",
   "mimetype": "text/x-python",
   "name": "python",
   "nbconvert_exporter": "python",
   "pygments_lexer": "ipython3",
   "version": "3.9.7"
  }
 },
 "nbformat": 4,
 "nbformat_minor": 5
}
