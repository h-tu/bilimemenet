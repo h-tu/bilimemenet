{
 "cells": [
  {
   "cell_type": "markdown",
   "id": "40f6c5d2-e51a-4b8a-9bc0-082d1486a0e4",
   "metadata": {
    "tags": []
   },
   "source": [
    "# Data scraping & dataset creation\n",
    "\n",
    "CS685 Spring 2022 <br />\n",
    "Feb. 19, 2022<br />\n",
    "Hongyu Tu <br />"
   ]
  },
  {
   "cell_type": "code",
   "execution_count": 1,
   "id": "dfbbfdc4-6d53-42bd-b801-359c1dd98b49",
   "metadata": {},
   "outputs": [],
   "source": [
    "import re\n",
    "import time\n",
    "import pickle\n",
    "import asyncio\n",
    "import datetime\n",
    "import requests\n",
    "import numpy as np\n",
    "import pandas as pd \n",
    "import nest_asyncio\n",
    "from utils import *\n",
    "from tqdm import tqdm\n",
    "from os import listdir\n",
    "from collections import Counter\n",
    "from bilibili_api import video, sync\n",
    "\n",
    "nest_asyncio.apply()"
   ]
  },
  {
   "cell_type": "code",
   "execution_count": 2,
   "id": "a1048351-6481-4c95-a4b6-bc5fe77546a6",
   "metadata": {},
   "outputs": [
    {
     "name": "stdout",
     "output_type": "stream",
     "text": [
      "Category list initialized successfully\n",
      "We have 126 categories\n"
     ]
    }
   ],
   "source": [
    "cat_dic = init_category_dic()\n",
    "tid_lst = np.array(list(cat_dic.keys()))\n",
    "print('Category list initialized successfully\\nWe have {} categories'.format(len(tid_lst)))"
   ]
  },
  {
   "cell_type": "code",
   "execution_count": null,
   "id": "86cd845e-5440-4b30-9018-99b63ead4e95",
   "metadata": {},
   "outputs": [],
   "source": [
    "for curr_id in tqdm(tid_lst):\n",
    "    danmu_lst, comment_lst = process_category(curr_id)\n",
    "    for idx, name in enumerate(['danmu', 'comment']):\n",
    "        fname = 'pickle2/{}/part{}.pkl'.format(name, curr_id)\n",
    "        with open(fname, 'wb') as f:\n",
    "            pickle.dump(danmu_lst if idx == 0 else comment_lst, f)\n",
    "        f.close()"
   ]
  },
  {
   "cell_type": "code",
   "execution_count": null,
   "id": "5ce55204-7cbc-49de-8d2b-60c22a1d3b47",
   "metadata": {},
   "outputs": [],
   "source": [
    "data = [[], []]\n",
    "for idx, name in enumerate(['danmu', 'comment']):\n",
    "    for i in listdir('pickle/{}'.format(name)):\n",
    "        if 'pkl' in i:\n",
    "            data[idx] = data[idx] + pickle.load(open('pickle/{}/{}'.format(name, i), 'rb'))"
   ]
  },
  {
   "cell_type": "code",
   "execution_count": null,
   "id": "e5f7b8e5-df36-4261-8a9f-4bda11842979",
   "metadata": {},
   "outputs": [],
   "source": [
    "df = list_to_csv(data[0], 'danmu')\n",
    "df2 = list_to_csv(data[1], 'comment')"
   ]
  },
  {
   "cell_type": "code",
   "execution_count": null,
   "id": "6975b273-e692-4a42-9c12-8a46af3a6b97",
   "metadata": {},
   "outputs": [],
   "source": [
    "df[-20:]"
   ]
  },
  {
   "cell_type": "code",
   "execution_count": null,
   "id": "0048d697-f1f8-48ac-9368-ce9beac0e59d",
   "metadata": {},
   "outputs": [],
   "source": [
    "df2[-20:]"
   ]
  }
 ],
 "metadata": {
  "kernelspec": {
   "display_name": "Python 3 (ipykernel)",
   "language": "python",
   "name": "python3"
  },
  "language_info": {
   "codemirror_mode": {
    "name": "ipython",
    "version": 3
   },
   "file_extension": ".py",
   "mimetype": "text/x-python",
   "name": "python",
   "nbconvert_exporter": "python",
   "pygments_lexer": "ipython3",
   "version": "3.9.7"
  }
 },
 "nbformat": 4,
 "nbformat_minor": 5
}
