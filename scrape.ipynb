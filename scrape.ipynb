{
 "cells": [
  {
   "cell_type": "code",
   "execution_count": 1,
   "id": "dfbbfdc4-6d53-42bd-b801-359c1dd98b49",
   "metadata": {},
   "outputs": [],
   "source": [
    "import re\n",
    "import time\n",
    "import pickle\n",
    "import asyncio\n",
    "import datetime\n",
    "import requests\n",
    "import numpy as np\n",
    "import pandas as pd \n",
    "import nest_asyncio\n",
    "from utils import *\n",
    "from tqdm import tqdm\n",
    "from os import listdir\n",
    "from collections import Counter\n",
    "from bilibili_api import video, sync\n",
    "\n",
    "nest_asyncio.apply()"
   ]
  },
  {
   "cell_type": "code",
   "execution_count": 2,
   "id": "a1048351-6481-4c95-a4b6-bc5fe77546a6",
   "metadata": {},
   "outputs": [
    {
     "name": "stdout",
     "output_type": "stream",
     "text": [
      "Category list initialized successfully\n",
      "We have 126 categories\n"
     ]
    }
   ],
   "source": [
    "cat_dic = init_category_dic()\n",
    "tid_lst = np.array(list(cat_dic.keys()))\n",
    "print('Category list initialized successfully\\nWe have {} categories'.format(len(tid_lst)))"
   ]
  },
  {
   "cell_type": "code",
   "execution_count": 3,
   "id": "ea442f25-e209-4d08-aa7e-808f78de616d",
   "metadata": {},
   "outputs": [
    {
     "name": "stderr",
     "output_type": "stream",
     "text": [
      "100%|████████████████████████████████████████████████████████████████████████████████| 126/126 [37:36<00:00, 17.91s/it]\n"
     ]
    }
   ],
   "source": [
    "for curr_id in tqdm(tid_lst):\n",
    "    tmp_lst = process_category(curr_id)\n",
    "    fname = 'pickle/part{}.pkl'.format(curr_id)\n",
    "    with open(fname, 'wb') as f:\n",
    "        pickle.dump(tmp_lst, f)"
   ]
  },
  {
   "cell_type": "code",
   "execution_count": 3,
   "id": "5ce55204-7cbc-49de-8d2b-60c22a1d3b47",
   "metadata": {},
   "outputs": [],
   "source": [
    "all_data = []\n",
    "for i in listdir('pickle'):\n",
    "    if 'pkl' in i:\n",
    "        all_data = all_data + pickle.load(open('pickle/{}'.format(i), 'rb'))"
   ]
  },
  {
   "cell_type": "code",
   "execution_count": 4,
   "id": "b64f976c-f153-4e29-a18f-af8fefc9253c",
   "metadata": {},
   "outputs": [
    {
     "data": {
      "text/plain": [
       "1129239"
      ]
     },
     "execution_count": 4,
     "metadata": {},
     "output_type": "execute_result"
    }
   ],
   "source": [
    "len(all_data)"
   ]
  },
  {
   "cell_type": "code",
   "execution_count": 5,
   "id": "e5f7b8e5-df36-4261-8a9f-4bda11842979",
   "metadata": {},
   "outputs": [],
   "source": [
    "df = list_to_csv(all_data)"
   ]
  },
  {
   "cell_type": "code",
   "execution_count": 6,
   "id": "ff55fff7-da37-4228-88f8-b78efe288d5c",
   "metadata": {},
   "outputs": [
    {
     "data": {
      "text/html": [
       "<div>\n",
       "<style scoped>\n",
       "    .dataframe tbody tr th:only-of-type {\n",
       "        vertical-align: middle;\n",
       "    }\n",
       "\n",
       "    .dataframe tbody tr th {\n",
       "        vertical-align: top;\n",
       "    }\n",
       "\n",
       "    .dataframe thead th {\n",
       "        text-align: right;\n",
       "    }\n",
       "</style>\n",
       "<table border=\"1\" class=\"dataframe\">\n",
       "  <thead>\n",
       "    <tr style=\"text-align: right;\">\n",
       "      <th></th>\n",
       "      <th>Bullet Chat</th>\n",
       "      <th>Frequency</th>\n",
       "      <th>BVID</th>\n",
       "      <th>Source Video Title</th>\n",
       "      <th>Category ID</th>\n",
       "      <th>Channel ID</th>\n",
       "      <th>Source Video View Count</th>\n",
       "    </tr>\n",
       "  </thead>\n",
       "  <tbody>\n",
       "    <tr>\n",
       "      <th>0</th>\n",
       "      <td>草</td>\n",
       "      <td>7</td>\n",
       "      <td>BV1YZ4y1R7Hb</td>\n",
       "      <td>寄</td>\n",
       "      <td>47</td>\n",
       "      <td>Liz5187</td>\n",
       "      <td>3841528</td>\n",
       "    </tr>\n",
       "    <tr>\n",
       "      <th>1</th>\n",
       "      <td>火钳刘明</td>\n",
       "      <td>588</td>\n",
       "      <td>BV1YZ4y1R7Hb</td>\n",
       "      <td>寄</td>\n",
       "      <td>47</td>\n",
       "      <td>Liz5187</td>\n",
       "      <td>3841528</td>\n",
       "    </tr>\n",
       "    <tr>\n",
       "      <th>2</th>\n",
       "      <td>火了叫我啊</td>\n",
       "      <td>1</td>\n",
       "      <td>BV1YZ4y1R7Hb</td>\n",
       "      <td>寄</td>\n",
       "      <td>47</td>\n",
       "      <td>Liz5187</td>\n",
       "      <td>3841528</td>\n",
       "    </tr>\n",
       "    <tr>\n",
       "      <th>3</th>\n",
       "      <td>火了叫我</td>\n",
       "      <td>1</td>\n",
       "      <td>BV1YZ4y1R7Hb</td>\n",
       "      <td>寄</td>\n",
       "      <td>47</td>\n",
       "      <td>Liz5187</td>\n",
       "      <td>3841528</td>\n",
       "    </tr>\n",
       "    <tr>\n",
       "      <th>4</th>\n",
       "      <td>什么东西啊tcl</td>\n",
       "      <td>1</td>\n",
       "      <td>BV1YZ4y1R7Hb</td>\n",
       "      <td>寄</td>\n",
       "      <td>47</td>\n",
       "      <td>Liz5187</td>\n",
       "      <td>3841528</td>\n",
       "    </tr>\n",
       "    <tr>\n",
       "      <th>...</th>\n",
       "      <td>...</td>\n",
       "      <td>...</td>\n",
       "      <td>...</td>\n",
       "      <td>...</td>\n",
       "      <td>...</td>\n",
       "      <td>...</td>\n",
       "      <td>...</td>\n",
       "    </tr>\n",
       "    <tr>\n",
       "      <th>1129234</th>\n",
       "      <td>血压逐渐升高</td>\n",
       "      <td>1</td>\n",
       "      <td>BV1EP4y1w7UF</td>\n",
       "      <td>寒假作业iPhone13ProMax拍摄杜比视界全景声短片</td>\n",
       "      <td>95</td>\n",
       "      <td>影视飓风</td>\n",
       "      <td>399247</td>\n",
       "    </tr>\n",
       "    <tr>\n",
       "      <th>1129235</th>\n",
       "      <td>可恶的双减</td>\n",
       "      <td>1</td>\n",
       "      <td>BV1EP4y1w7UF</td>\n",
       "      <td>寒假作业iPhone13ProMax拍摄杜比视界全景声短片</td>\n",
       "      <td>95</td>\n",
       "      <td>影视飓风</td>\n",
       "      <td>399247</td>\n",
       "    </tr>\n",
       "    <tr>\n",
       "      <th>1129236</th>\n",
       "      <td>双减小学生现状</td>\n",
       "      <td>1</td>\n",
       "      <td>BV1EP4y1w7UF</td>\n",
       "      <td>寒假作业iPhone13ProMax拍摄杜比视界全景声短片</td>\n",
       "      <td>95</td>\n",
       "      <td>影视飓风</td>\n",
       "      <td>399247</td>\n",
       "    </tr>\n",
       "    <tr>\n",
       "      <th>1129237</th>\n",
       "      <td>爸妈回家要挨打了</td>\n",
       "      <td>1</td>\n",
       "      <td>BV1EP4y1w7UF</td>\n",
       "      <td>寒假作业iPhone13ProMax拍摄杜比视界全景声短片</td>\n",
       "      <td>95</td>\n",
       "      <td>影视飓风</td>\n",
       "      <td>399247</td>\n",
       "    </tr>\n",
       "    <tr>\n",
       "      <th>1129238</th>\n",
       "      <td>所以这是iPad的广告</td>\n",
       "      <td>1</td>\n",
       "      <td>BV1EP4y1w7UF</td>\n",
       "      <td>寒假作业iPhone13ProMax拍摄杜比视界全景声短片</td>\n",
       "      <td>95</td>\n",
       "      <td>影视飓风</td>\n",
       "      <td>399247</td>\n",
       "    </tr>\n",
       "  </tbody>\n",
       "</table>\n",
       "<p>1129239 rows × 7 columns</p>\n",
       "</div>"
      ],
      "text/plain": [
       "         Bullet Chat  Frequency          BVID             Source Video Title  \\\n",
       "0                  草          7  BV1YZ4y1R7Hb                              寄   \n",
       "1               火钳刘明        588  BV1YZ4y1R7Hb                              寄   \n",
       "2              火了叫我啊          1  BV1YZ4y1R7Hb                              寄   \n",
       "3               火了叫我          1  BV1YZ4y1R7Hb                              寄   \n",
       "4           什么东西啊tcl          1  BV1YZ4y1R7Hb                              寄   \n",
       "...              ...        ...           ...                            ...   \n",
       "1129234       血压逐渐升高          1  BV1EP4y1w7UF  寒假作业iPhone13ProMax拍摄杜比视界全景声短片   \n",
       "1129235        可恶的双减          1  BV1EP4y1w7UF  寒假作业iPhone13ProMax拍摄杜比视界全景声短片   \n",
       "1129236      双减小学生现状          1  BV1EP4y1w7UF  寒假作业iPhone13ProMax拍摄杜比视界全景声短片   \n",
       "1129237     爸妈回家要挨打了          1  BV1EP4y1w7UF  寒假作业iPhone13ProMax拍摄杜比视界全景声短片   \n",
       "1129238  所以这是iPad的广告          1  BV1EP4y1w7UF  寒假作业iPhone13ProMax拍摄杜比视界全景声短片   \n",
       "\n",
       "         Category ID Channel ID  Source Video View Count  \n",
       "0                 47    Liz5187                  3841528  \n",
       "1                 47    Liz5187                  3841528  \n",
       "2                 47    Liz5187                  3841528  \n",
       "3                 47    Liz5187                  3841528  \n",
       "4                 47    Liz5187                  3841528  \n",
       "...              ...        ...                      ...  \n",
       "1129234           95       影视飓风                   399247  \n",
       "1129235           95       影视飓风                   399247  \n",
       "1129236           95       影视飓风                   399247  \n",
       "1129237           95       影视飓风                   399247  \n",
       "1129238           95       影视飓风                   399247  \n",
       "\n",
       "[1129239 rows x 7 columns]"
      ]
     },
     "execution_count": 6,
     "metadata": {},
     "output_type": "execute_result"
    }
   ],
   "source": [
    "df"
   ]
  }
 ],
 "metadata": {
  "kernelspec": {
   "display_name": "Python 3 (ipykernel)",
   "language": "python",
   "name": "python3"
  },
  "language_info": {
   "codemirror_mode": {
    "name": "ipython",
    "version": 3
   },
   "file_extension": ".py",
   "mimetype": "text/x-python",
   "name": "python",
   "nbconvert_exporter": "python",
   "pygments_lexer": "ipython3",
   "version": "3.9.7"
  }
 },
 "nbformat": 4,
 "nbformat_minor": 5
}
