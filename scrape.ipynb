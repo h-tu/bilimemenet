{
 "cells": [
  {
   "cell_type": "code",
   "execution_count": 1,
   "id": "dfbbfdc4-6d53-42bd-b801-359c1dd98b49",
   "metadata": {},
   "outputs": [],
   "source": [
    "import re\n",
    "import time\n",
    "import asyncio\n",
    "import datetime\n",
    "import requests\n",
    "import numpy as np\n",
    "import pandas as pd \n",
    "import nest_asyncio\n",
    "from utils import *\n",
    "from tqdm import tqdm\n",
    "from collections import Counter\n",
    "from bilibili_api import video, sync\n",
    "\n",
    "nest_asyncio.apply()"
   ]
  },
  {
   "cell_type": "code",
   "execution_count": 2,
   "id": "a1048351-6481-4c95-a4b6-bc5fe77546a6",
   "metadata": {},
   "outputs": [
    {
     "name": "stdout",
     "output_type": "stream",
     "text": [
      "Category list initialized successfully\n",
      "We have 126 categories\n"
     ]
    }
   ],
   "source": [
    "cat_dic = init_category_dic()\n",
    "tid_lst = np.array(list(cat_dic.keys()))\n",
    "print('Category list initialized successfully\\nWe have {} categories'.format(len(tid_lst)))"
   ]
  },
  {
   "cell_type": "code",
   "execution_count": null,
   "id": "ea442f25-e209-4d08-aa7e-808f78de616d",
   "metadata": {},
   "outputs": [],
   "source": [
    "data = []\n",
    "for curr_id in tqdm(tid_lst):\n",
    "    tmp_lst = process_category(curr_id)\n",
    "    data = data + tmp_lst"
   ]
  },
  {
   "cell_type": "code",
   "execution_count": null,
   "id": "e5f7b8e5-df36-4261-8a9f-4bda11842979",
   "metadata": {},
   "outputs": [],
   "source": [
    "list_to_csv(data)"
   ]
  }
 ],
 "metadata": {
  "kernelspec": {
   "display_name": "Python 3 (ipykernel)",
   "language": "python",
   "name": "python3"
  },
  "language_info": {
   "codemirror_mode": {
    "name": "ipython",
    "version": 3
   },
   "file_extension": ".py",
   "mimetype": "text/x-python",
   "name": "python",
   "nbconvert_exporter": "python",
   "pygments_lexer": "ipython3",
   "version": "3.9.7"
  }
 },
 "nbformat": 4,
 "nbformat_minor": 5
}
