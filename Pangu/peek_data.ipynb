{
 "cells": [
  {
   "cell_type": "code",
   "execution_count": 26,
   "id": "970d5dac",
   "metadata": {},
   "outputs": [],
   "source": [
    "cate_filename = \"../Chinese-Bert/category_info.txt\"\n",
    "with open(cate_filename) as f:\n",
    "    lines = f.readlines()\n",
    "\n",
    "cateid_to_name = dict()\n",
    "eng_name_list = []\n",
    "for line in lines:\n",
    "    chn_name, eng_name, sub_cate_id, cate_id = line.rstrip().split(\",\")\n",
    "    if sub_cate_id == cate_id:\n",
    "        cateid_to_name[cate_id] = chn_name\n",
    "        eng_name_list.append([chn_name, eng_name])"
   ]
  },
  {
   "cell_type": "code",
   "execution_count": 27,
   "id": "e4f9e6e7",
   "metadata": {},
   "outputs": [
    {
     "data": {
      "text/plain": [
       "[['动画', 'douga'],\n",
       " ['番剧', 'anime'],\n",
       " ['国创', 'guochuang'],\n",
       " ['音乐', 'music'],\n",
       " ['舞蹈', 'dance'],\n",
       " ['游戏', 'game'],\n",
       " ['知识', 'knowledge'],\n",
       " ['科技', 'tech'],\n",
       " ['运动', 'sports'],\n",
       " ['汽车', 'car'],\n",
       " ['生活', 'life'],\n",
       " ['美食', 'food'],\n",
       " ['动物圈', 'animal'],\n",
       " ['鬼畜', 'kichiku'],\n",
       " ['时尚', 'fashion'],\n",
       " ['资讯', 'information'],\n",
       " ['娱乐', 'ent'],\n",
       " ['影视', 'cinephile'],\n",
       " ['纪录片', 'documentary'],\n",
       " ['电影', 'movie'],\n",
       " ['电视剧', 'tv']]"
      ]
     },
     "execution_count": 27,
     "metadata": {},
     "output_type": "execute_result"
    }
   ],
   "source": [
    "eng_name_list"
   ]
  },
  {
   "cell_type": "code",
   "execution_count": 2,
   "id": "0ffa8892",
   "metadata": {},
   "outputs": [
    {
     "data": {
      "text/plain": [
       "'动画，番剧，国创，音乐，舞蹈，游戏，知识，科技，运动，汽车，生活，美食，动物圈，鬼畜，时尚，资讯，娱乐，影视，纪录片，电影，电视剧'"
      ]
     },
     "execution_count": 2,
     "metadata": {},
     "output_type": "execute_result"
    }
   ],
   "source": [
    "cate_names_str = \"，\".join(cateid_to_name.values())\n",
    "cate_names_str"
   ]
  },
  {
   "cell_type": "code",
   "execution_count": 4,
   "id": "85a9b7d4",
   "metadata": {},
   "outputs": [
    {
     "data": {
      "text/plain": [
       "'动画，音乐舞蹈，知识，生活，影视'"
      ]
     },
     "execution_count": 4,
     "metadata": {},
     "output_type": "execute_result"
    }
   ],
   "source": [
    "CATE_TO_5 = {\n",
    "    \"动画\": [\"动画\", \"番剧\", \"国创\", \"游戏\", \"鬼畜\"],\n",
    "    \"音乐舞蹈\": [\"音乐\", \"舞蹈\"],\n",
    "    \"知识\": [\"知识\", \"科技\"],\n",
    "    \"生活\": [\"运动\", \"汽车\", \"生活\", \"美食\", \"动物圈\", \"时尚\", \"资讯\", \"娱乐\"], \n",
    "    \"影视\": [\"影视\", \"纪录片\", \"电影\", \"电视剧\"]\n",
    "}\n",
    "cate_names_str_5 = \"，\".join(CATE_TO_5.keys())\n",
    "cate_names_str_5"
   ]
  },
  {
   "cell_type": "code",
   "execution_count": 5,
   "id": "c1e3aa19",
   "metadata": {},
   "outputs": [],
   "source": [
    "def get_cate_5(cate_name):\n",
    "    for key in CATE_TO_5:\n",
    "        if cate_name in CATE_TO_5[key]:\n",
    "            return key\n",
    "    raise KeyError"
   ]
  },
  {
   "cell_type": "code",
   "execution_count": 6,
   "id": "b8155d6f",
   "metadata": {},
   "outputs": [],
   "source": [
    "import pickle\n",
    "tmp_lst = []\n",
    "for i in ['danmu']:\n",
    "    with open('../data/{}_token_main.pkl'.format(i), 'rb') as f:\n",
    "        main = pickle.load(f)\n",
    "    with open('../data/{}_dist_main.pkl'.format(i), 'rb') as f:\n",
    "        dist = pickle.load(f)"
   ]
  },
  {
   "cell_type": "code",
   "execution_count": 7,
   "id": "8245782d",
   "metadata": {},
   "outputs": [],
   "source": [
    "DATASET_SIZE = len(main)"
   ]
  },
  {
   "cell_type": "code",
   "execution_count": 22,
   "id": "806a0e24",
   "metadata": {},
   "outputs": [],
   "source": [
    "import random"
   ]
  },
  {
   "cell_type": "code",
   "execution_count": 8,
   "id": "d406596c",
   "metadata": {},
   "outputs": [
    {
     "data": {
      "text/plain": [
       "(array([1., 0., 0., 0., 0., 0., 0., 0., 0., 0., 0., 0., 0., 0., 0., 0., 0.,\n",
       "        0., 0., 0., 0.]),\n",
       " 21)"
      ]
     },
     "execution_count": 8,
     "metadata": {},
     "output_type": "execute_result"
    }
   ],
   "source": [
    "dist[0], len(dist[0])"
   ]
  },
  {
   "cell_type": "code",
   "execution_count": 17,
   "id": "f79b63df",
   "metadata": {},
   "outputs": [],
   "source": [
    "import numpy as np\n",
    "\n",
    "CATEID_LIST = [1, 13, 167, 3, 129, 4, 36, 188, 234, 223, 160, 211, 217, \\\n",
    "             119, 155, 202, 5, 181, 177, 23, 11]\n",
    "\n",
    "def dist_to_cate_name(dist_np):\n",
    "    # i = np.argmax(dist_np)\n",
    "    sorted_index = np.argsort(dist_np)\n",
    "    nonzero_num = np.sum(dist_np != 0)\n",
    "    nonzero_indexes = sorted_index[-nonzero_num:]\n",
    "    \n",
    "    labels = []\n",
    "    for i in nonzero_indexes:\n",
    "        cate_id = CATEID_LIST[i]\n",
    "        cate_name = cateid_to_name[str(cate_id)]\n",
    "        cate_5_name = get_cate_5(cate_name)\n",
    "        labels.append([cate_5_name, cate_name, dist_np[i]])\n",
    "    return labels"
   ]
  },
  {
   "cell_type": "code",
   "execution_count": 18,
   "id": "b875118f",
   "metadata": {},
   "outputs": [],
   "source": [
    "target = [dist_to_cate_name(d) for d in dist]"
   ]
  },
  {
   "cell_type": "code",
   "execution_count": 20,
   "id": "376c47c6",
   "metadata": {},
   "outputs": [
    {
     "data": {
      "text/plain": [
       "[['动画', '动画', 1.0]]"
      ]
     },
     "execution_count": 20,
     "metadata": {},
     "output_type": "execute_result"
    }
   ],
   "source": [
    "target[0]"
   ]
  },
  {
   "cell_type": "code",
   "execution_count": 28,
   "id": "8282fa7b",
   "metadata": {},
   "outputs": [
    {
     "name": "stdout",
     "output_type": "stream",
     "text": [
      "哦撩死我了 [['音乐舞蹈', '音乐', 1.0]]\n",
      "nft狂喜 [['知识', '科技', 1.0]]\n",
      "激励都是激励 [['知识', '知识', 1.0]]\n",
      "甄嬛传 [['知识', '知识', 0.058823529411764705], ['生活', '时尚', 0.058823529411764705], ['影视', '纪录片', 0.058823529411764705], ['生活', '动物圈', 0.11764705882352941], ['动画', '游戏', 0.23529411764705882], ['影视', '影视', 0.47058823529411764]]\n",
      "马嘉祺卷毛 [['生活', '娱乐', 1.0]]\n",
      "一板一眼 [['知识', '知识', 1.0]]\n",
      "不要三分 [['生活', '娱乐', 1.0]]\n",
      "还是吃素好了 [['生活', '运动', 1.0]]\n",
      "小手一抽 [['生活', '生活', 1.0]]\n",
      "我的宝贝张张 [['生活', '娱乐', 1.0]]\n",
      "哪里买的 [['生活', '生活', 1.0]]\n",
      "尚重嘛 [['生活', '动物圈', 1.0]]\n",
      "午夜食堂 [['动画', '游戏', 1.0]]\n",
      "国际玩笑 [['动画', '动画', 1.0]]\n",
      "大美女好啊 [['知识', '知识', 1.0]]\n",
      "每一步都算数 [['生活', '娱乐', 1.0]]\n",
      "使坏哈哈哈 [['音乐舞蹈', '音乐', 1.0]]\n",
      "电车都这样 [['生活', '汽车', 1.0]]\n",
      "暗示五蕉 [['知识', '知识', 1.0]]\n",
      "精五绿刀 [['动画', '游戏', 1.0]]\n",
      "我超UT [['音乐舞蹈', '音乐', 1.0]]\n",
      "徐州锁链女 [['动画', '游戏', 1.0]]\n",
      "赏心悦目 [['生活', '汽车', 0.047619047619047616], ['生活', '美食', 0.047619047619047616], ['生活', '时尚', 0.047619047619047616], ['影视', '影视', 0.047619047619047616], ['音乐舞蹈', '舞蹈', 0.09523809523809523], ['生活', '娱乐', 0.09523809523809523], ['动画', '动画', 0.09523809523809523], ['生活', '运动', 0.14285714285714285], ['音乐舞蹈', '音乐', 0.14285714285714285], ['动画', '游戏', 0.23809523809523808]]\n",
      "太帅了吧义进 [['动画', '游戏', 1.0]]\n",
      "官媒整活 [['音乐舞蹈', '音乐', 1.0]]\n",
      "大家族 [['动画', '游戏', 0.08333333333333333], ['音乐舞蹈', '音乐', 0.08333333333333333], ['生活', '娱乐', 0.16666666666666666], ['影视', '影视', 0.16666666666666666], ['生活', '生活', 0.16666666666666666], ['知识', '知识', 0.3333333333333333]]\n",
      "离公路太远 [['生活', '生活', 1.0]]\n",
      "三个都在啊 [['音乐舞蹈', '音乐', 0.5], ['生活', '娱乐', 0.5]]\n",
      "我去有矿 [['生活', '生活', 1.0]]\n",
      "天杨星霉志 [['影视', '影视', 1.0]]\n",
      "大火腿肠 [['生活', '美食', 1.0]]\n",
      "这个会衰减 [['生活', '运动', 1.0]]\n",
      "山卡拉 [['知识', '知识', 1.0]]\n",
      "进化的高木 [['动画', '动画', 1.0]]\n",
      "小太多 [['知识', '科技', 1.0]]\n",
      "林平之 [['生活', '时尚', 1.0]]\n",
      "小了啊 [['生活', '美食', 1.0]]\n",
      "向导被迫献祭 [['动画', '游戏', 1.0]]\n",
      "wanderwoman [['音乐舞蹈', '音乐', 1.0]]\n",
      "制造矛盾 [['影视', '影视', 1.0]]\n",
      "樱桃可乐 [['生活', '美食', 1.0]]\n",
      "复兴号弹幕 [['生活', '美食', 1.0]]\n",
      "猪狗朋友 [['生活', '动物圈', 1.0]]\n",
      "挼洗干净血水 [['生活', '美食', 1.0]]\n",
      "今天下午 [['生活', '时尚', 0.08333333333333333], ['动画', '动画', 0.08333333333333333], ['生活', '美食', 0.08333333333333333], ['生活', '运动', 0.08333333333333333], ['音乐舞蹈', '音乐', 0.08333333333333333], ['生活', '动物圈', 0.08333333333333333], ['知识', '知识', 0.16666666666666666], ['动画', '游戏', 0.16666666666666666], ['生活', '生活', 0.16666666666666666]]\n",
      "笑的哈哈哈哈 [['生活', '娱乐', 1.0]]\n",
      "ahhhhhhhhhhhhhhhhhhhhh [['知识', '科技', 1.0]]\n",
      "擀面杖擀一下 [['生活', '美食', 1.0]]\n",
      "好家伙没看懂 [['生活', '娱乐', 1.0]]\n",
      "海电器 [['生活', '美食', 1.0]]\n",
      "你们看哪呢 [['生活', '生活', 1.0]]\n",
      "周瑜的声音 [['影视', '影视', 1.0]]\n",
      "摸牌阶段 [['动画', '游戏', 1.0]]\n",
      "已经36W了 [['生活', '美食', 1.0]]\n",
      "大屏绝美 [['音乐舞蹈', '音乐', 1.0]]\n",
      "哈哈哈真实 [['知识', '知识', 0.25], ['音乐舞蹈', '音乐', 0.25], ['生活', '生活', 0.5]]\n",
      "打手势 [['生活', '美食', 0.5], ['音乐舞蹈', '音乐', 0.5]]\n",
      "我们叫油香 [['生活', '美食', 1.0]]\n",
      "为啥放韭菜 [['生活', '美食', 1.0]]\n",
      "这是品红狗头 [['动画', '动画', 1.0]]\n",
      "我觉得好丑 [['影视', '影视', 1.0]]\n",
      "280一盒啊 [['动画', '动画', 1.0]]\n",
      "加拿大队 [['知识', '知识', 1.0]]\n",
      "没门就 [['生活', '生活', 1.0]]\n",
      "做挑战用 [['生活', '美食', 1.0]]\n",
      "费城枪击案 [['动画', '游戏', 1.0]]\n",
      "T813A7 [['生活', '生活', 1.0]]\n",
      "这不得抽起来 [['动画', '游戏', 1.0]]\n",
      "汉弗莱是吧 [['知识', '知识', 1.0]]\n",
      "不拉裤 [['影视', '影视', 1.0]]\n",
      "我爸我妈 [['动画', '鬼畜', 1.0]]\n",
      "甜啦啦 [['生活', '美食', 1.0]]\n",
      "突然想看了 [['影视', '影视', 1.0]]\n",
      "30L [['生活', '汽车', 1.0]]\n",
      "爽翻了这里 [['音乐舞蹈', '舞蹈', 1.0]]\n",
      "背景太晃了 [['动画', '游戏', 1.0]]\n",
      "一点也不像 [['动画', '游戏', 1.0]]\n",
      "川轻化 [['知识', '知识', 1.0]]\n",
      "卧槽我馋哭了 [['生活', '生活', 1.0]]\n",
      "调色板 [['动画', '游戏', 1.0]]\n",
      "用来粘合弓胎 [['生活', '美食', 1.0]]\n",
      "他是第二个了 [['生活', '时尚', 1.0]]\n",
      "乌格莱美釹 [['影视', '影视', 1.0]]\n",
      "阿志好帅 [['生活', '娱乐', 1.0]]\n",
      "一百二 [['影视', '影视', 0.125], ['生活', '美食', 0.25], ['生活', '运动', 0.25], ['知识', '知识', 0.375]]\n",
      "丁儿感冒了吗 [['生活', '娱乐', 1.0]]\n",
      "双声道我超 [['动画', '鬼畜', 1.0]]\n",
      "李白谢谢啊 [['动画', '游戏', 1.0]]\n",
      "好像气气啊 [['生活', '汽车', 1.0]]\n",
      "我姓曹 [['音乐舞蹈', '音乐', 1.0]]\n",
      "好漂亮的奖牌 [['生活', '运动', 1.0]]\n",
      "雷这美人 [['动画', '国创', 1.0]]\n",
      "真源辛苦啦 [['生活', '娱乐', 1.0]]\n",
      "s8LPL [['生活', '时尚', 1.0]]\n",
      "省了8000 [['知识', '知识', 1.0]]\n",
      "八点钟 [['生活', '美食', 0.5], ['动画', '鬼畜', 0.5]]\n",
      "是的恼 [['动画', '游戏', 1.0]]\n",
      "终结未遂 [['动画', '游戏', 1.0]]\n",
      "打恐怖游戏吧 [['动画', '动画', 1.0]]\n",
      "验币专业 [['生活', '生活', 1.0]]\n"
     ]
    }
   ],
   "source": [
    "sample_id = random.sample(range(DATASET_SIZE), 100)\n",
    "for i in sample_id:\n",
    "    print(main[i], target[i])"
   ]
  },
  {
   "cell_type": "code",
   "execution_count": null,
   "id": "e6610e23",
   "metadata": {},
   "outputs": [],
   "source": []
  }
 ],
 "metadata": {
  "interpreter": {
   "hash": "398f6e7d381c962d539f0704c98006ef0fa0630a6c530922433efd70b3913075"
  },
  "kernelspec": {
   "display_name": "Python 3.7.13 ('bilibili')",
   "language": "python",
   "name": "python3"
  },
  "language_info": {
   "codemirror_mode": {
    "name": "ipython",
    "version": 3
   },
   "file_extension": ".py",
   "mimetype": "text/x-python",
   "name": "python",
   "nbconvert_exporter": "python",
   "pygments_lexer": "ipython3",
   "version": "3.7.13"
  }
 },
 "nbformat": 4,
 "nbformat_minor": 5
}
