{
 "cells": [
  {
   "cell_type": "code",
   "execution_count": 1,
   "id": "4781d721-9a54-4e08-aa8a-2de837d964e5",
   "metadata": {},
   "outputs": [],
   "source": [
    "import numpy as np"
   ]
  },
  {
   "cell_type": "code",
   "execution_count": 2,
   "id": "3051aa9a-71a1-4a49-9528-2f5f4025cacc",
   "metadata": {},
   "outputs": [],
   "source": [
    "def read_data(data_id):\n",
    "    name = 'data/data-test-{}.txt'.format(data_id)\n",
    "    file1 = open(name, 'r')\n",
    "    x = []\n",
    "\n",
    "    while True:\n",
    "        line = file1.readline()\n",
    "\n",
    "        if not line:\n",
    "            break\n",
    "        line = line[:-1].split(',')\n",
    "        x.append(line)\n",
    "\n",
    "    file1.close()\n",
    "    x = np.array(x).astype('int')\n",
    "    return x"
   ]
  },
  {
   "cell_type": "code",
   "execution_count": 3,
   "id": "f750908e-3571-4251-a175-068a9b777965",
   "metadata": {},
   "outputs": [],
   "source": [
    "x1 = read_data(1)\n",
    "N = len(x1)"
   ]
  },
  {
   "cell_type": "code",
   "execution_count": 4,
   "id": "fbb91d25-a215-4c8f-b9a0-c8af5ab786b9",
   "metadata": {},
   "outputs": [],
   "source": [
    "# 0, 1, 2, 3, 4, 5, 6, 7, 8\n",
    "# A, G, C, B, H, E, R, I, D\n",
    "log_sum = 0\n",
    "\n",
    "for tmp in x1:\n",
    "    idx_lst = []\n",
    "    for i in range(9):\n",
    "        idx_lst.append(np.where(tmp[i] == x1.T[i])[0])\n",
    "\n",
    "    g_a_intersection = np.intersect1d(idx_lst[1], idx_lst[0])\n",
    "    h_b_intersection = np.intersect1d(idx_lst[4], idx_lst[3])\n",
    "    d_b_intersection = np.intersect1d(idx_lst[8], idx_lst[3])\n",
    "    \n",
    "    rdb = np.intersect1d(idx_lst[6], d_b_intersection)\n",
    "    dhb = np.intersect1d(idx_lst[8], h_b_intersection)\n",
    "    bga, hga = np.intersect1d(idx_lst[3], g_a_intersection), np.intersect1d(idx_lst[4], g_a_intersection)\n",
    "    cd, ed, di = np.intersect1d(idx_lst[2], idx_lst[8]), np.intersect1d(idx_lst[5], idx_lst[8]), np.intersect1d(idx_lst[7], idx_lst[8])\n",
    "    \n",
    "    part1 = (len(idx_lst[1])*len(idx_lst[0]))/N\n",
    "    part2 = 1e-8 if len(h_b_intersection) == 0 else (len(dhb)/len(h_b_intersection))\n",
    "    part3 = 1e-8 if len(g_a_intersection) == 0 else ((len(bga) * len(hga))/len(g_a_intersection))\n",
    "    part4 = 1e-8 if len(idx_lst[8]) == 0 else ((len(cd) * len(ed) * len(di))/len(idx_lst[8]))\n",
    "    part5 = 1e-8 if len(d_b_intersection) == 0 else (len(rdb)/len(d_b_intersection))\n",
    "    \n",
    "    log_sum += np.log(part1 * part2 * part3 * part4 * part5)\n",
    "    \n",
    "output = log_sum/N"
   ]
  },
  {
   "cell_type": "code",
   "execution_count": 5,
   "id": "0a97f060-ecd9-481b-988a-c4a0158f743a",
   "metadata": {},
   "outputs": [
    {
     "data": {
      "text/plain": [
       "7.422497148755189"
      ]
     },
     "execution_count": 5,
     "metadata": {},
     "output_type": "execute_result"
    }
   ],
   "source": [
    "output"
   ]
  }
 ],
 "metadata": {
  "kernelspec": {
   "display_name": "Python 3 (ipykernel)",
   "language": "python",
   "name": "python3"
  },
  "language_info": {
   "codemirror_mode": {
    "name": "ipython",
    "version": 3
   },
   "file_extension": ".py",
   "mimetype": "text/x-python",
   "name": "python",
   "nbconvert_exporter": "python",
   "pygments_lexer": "ipython3",
   "version": "3.9.7"
  }
 },
 "nbformat": 4,
 "nbformat_minor": 5
}
