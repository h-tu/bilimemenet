{
 "cells": [
  {
   "cell_type": "code",
   "execution_count": 3,
   "id": "dfbbfdc4-6d53-42bd-b801-359c1dd98b49",
   "metadata": {},
   "outputs": [],
   "source": [
    "import re\n",
    "import time\n",
    "import pickle\n",
    "import asyncio\n",
    "import datetime\n",
    "import requests\n",
    "import numpy as np\n",
    "import pandas as pd \n",
    "import nest_asyncio\n",
    "from utils import *\n",
    "from tqdm import tqdm\n",
    "from os import listdir\n",
    "from collections import Counter\n",
    "from bilibili_api import video, sync\n",
    "\n",
    "nest_asyncio.apply()"
   ]
  },
  {
   "cell_type": "code",
   "execution_count": 2,
   "id": "a1048351-6481-4c95-a4b6-bc5fe77546a6",
   "metadata": {},
   "outputs": [
    {
     "name": "stdout",
     "output_type": "stream",
     "text": [
      "Category list initialized successfully\n",
      "We have 126 categories\n"
     ]
    }
   ],
   "source": [
    "cat_dic = init_category_dic()\n",
    "tid_lst = np.array(list(cat_dic.keys()))\n",
    "print('Category list initialized successfully\\nWe have {} categories'.format(len(tid_lst)))"
   ]
  },
  {
   "cell_type": "code",
   "execution_count": 3,
   "id": "ea442f25-e209-4d08-aa7e-808f78de616d",
   "metadata": {},
   "outputs": [
    {
     "name": "stderr",
     "output_type": "stream",
     "text": [
      "100%|████████████████████████████████████████████████████████████████████████████████| 126/126 [37:36<00:00, 17.91s/it]\n"
     ]
    }
   ],
   "source": [
    "for curr_id in tqdm(tid_lst):\n",
    "    tmp_lst = process_category(curr_id)\n",
    "    fname = 'pickle/part{}.pkl'.format(curr_id)\n",
    "    with open(fname, 'wb') as f:\n",
    "        pickle.dump(tmp_lst, f)"
   ]
  },
  {
   "cell_type": "code",
   "execution_count": 10,
   "id": "5ce55204-7cbc-49de-8d2b-60c22a1d3b47",
   "metadata": {},
   "outputs": [],
   "source": [
    "all_data = []\n",
    "for i in listdir('pickle'):\n",
    "    if 'pkl' in i:\n",
    "        all_data = all_data + pickle.load(open('pickle/{}'.format(i), 'rb'))"
   ]
  },
  {
   "cell_type": "code",
   "execution_count": 11,
   "id": "b64f976c-f153-4e29-a18f-af8fefc9253c",
   "metadata": {},
   "outputs": [
    {
     "data": {
      "text/plain": [
       "1129239"
      ]
     },
     "execution_count": 11,
     "metadata": {},
     "output_type": "execute_result"
    }
   ],
   "source": [
    "len(all_data)"
   ]
  },
  {
   "cell_type": "code",
   "execution_count": 12,
   "id": "e5f7b8e5-df36-4261-8a9f-4bda11842979",
   "metadata": {},
   "outputs": [],
   "source": [
    "list_to_csv(all_data)"
   ]
  }
 ],
 "metadata": {
  "kernelspec": {
   "display_name": "Python 3 (ipykernel)",
   "language": "python",
   "name": "python3"
  },
  "language_info": {
   "codemirror_mode": {
    "name": "ipython",
    "version": 3
   },
   "file_extension": ".py",
   "mimetype": "text/x-python",
   "name": "python",
   "nbconvert_exporter": "python",
   "pygments_lexer": "ipython3",
   "version": "3.9.7"
  }
 },
 "nbformat": 4,
 "nbformat_minor": 5
}
